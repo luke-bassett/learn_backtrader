{
 "cells": [
  {
   "cell_type": "code",
   "execution_count": 4,
   "metadata": {},
   "outputs": [],
   "source": [
    "from datetime import datetime\n",
    "import backtrader as bt"
   ]
  },
  {
   "cell_type": "code",
   "execution_count": 71,
   "metadata": {},
   "outputs": [],
   "source": [
    "def run_strategy(strategy, data, cash):\n",
    "    cerebro = bt.Cerebro()\n",
    "    cerebro.addstrategy(strategy)\n",
    "    cerebro.adddata(data)\n",
    "    cerebro.broker.setcash(cash)\n",
    "    cerebro.run()\n",
    "    print('End with %.2f' % cerebro.broker.getvalue())\n",
    "    return cerebro"
   ]
  },
  {
   "cell_type": "code",
   "execution_count": 72,
   "metadata": {},
   "outputs": [],
   "source": [
    "data = bt.feeds.YahooFinanceCSVData(\n",
    "    dataname=r'D:\\home\\projects\\learn_backtrader\\data\\K.csv',\n",
    "    fromdate=datetime(1984, 12, 17),\n",
    "    todate=datetime(2020, 10, 9),\n",
    "    adjclose=True\n",
    ")"
   ]
  },
  {
   "cell_type": "code",
   "execution_count": 81,
   "metadata": {},
   "outputs": [],
   "source": [
    "class KellogsLong(bt.Strategy):\n",
    "    \n",
    "    def log(self, txt, dt=None):\n",
    "        ''' Logging function fot this strategy'''\n",
    "        dt = dt or self.datas[0].datetime.date(0)\n",
    "        print('%s, %s' % (dt.isoformat(), txt)) \n",
    "        \n",
    "    def next(self):\n",
    "        if not self.position:\n",
    "            self.order = self.buy(size=100)\n",
    "    def notify_order(self, order):\n",
    "        print(len(self))\n",
    "        print(self.order)\n",
    "        \n",
    "        "
   ]
  },
  {
   "cell_type": "code",
   "execution_count": 82,
   "metadata": {
    "scrolled": true
   },
   "outputs": [
    {
     "name": "stdout",
     "output_type": "stream",
     "text": [
      "2\n",
      "Ref: 156465\n",
      "OrdType: 0\n",
      "OrdType: Buy\n",
      "Status: 4\n",
      "Status: Completed\n",
      "Size: 100\n",
      "Price: None\n",
      "Price Limit: None\n",
      "TrailAmount: None\n",
      "TrailPercent: None\n",
      "ExecType: 0\n",
      "ExecType: Market\n",
      "CommInfo: <backtrader.comminfo.CommInfoBase object at 0x000002CB55444FD0>\n",
      "End of Session: 724627.9999999999\n",
      "Info: AutoOrderedDict()\n",
      "Broker: None\n",
      "Alive: False\n",
      "2\n",
      "Ref: 156465\n",
      "OrdType: 0\n",
      "OrdType: Buy\n",
      "Status: 4\n",
      "Status: Completed\n",
      "Size: 100\n",
      "Price: None\n",
      "Price Limit: None\n",
      "TrailAmount: None\n",
      "TrailPercent: None\n",
      "ExecType: 0\n",
      "ExecType: Market\n",
      "CommInfo: <backtrader.comminfo.CommInfoBase object at 0x000002CB55444FD0>\n",
      "End of Session: 724627.9999999999\n",
      "Info: AutoOrderedDict()\n",
      "Broker: None\n",
      "Alive: False\n",
      "2\n",
      "Ref: 156465\n",
      "OrdType: 0\n",
      "OrdType: Buy\n",
      "Status: 4\n",
      "Status: Completed\n",
      "Size: 100\n",
      "Price: None\n",
      "Price Limit: None\n",
      "TrailAmount: None\n",
      "TrailPercent: None\n",
      "ExecType: 0\n",
      "ExecType: Market\n",
      "CommInfo: <backtrader.comminfo.CommInfoBase object at 0x000002CB55444FD0>\n",
      "End of Session: 724627.9999999999\n",
      "Info: AutoOrderedDict()\n",
      "Broker: None\n",
      "Alive: False\n",
      "End with 7010.00\n"
     ]
    }
   ],
   "source": [
    "c = run_strategy(KellogsLong, data, 1000)"
   ]
  },
  {
   "cell_type": "code",
   "execution_count": null,
   "metadata": {},
   "outputs": [],
   "source": []
  }
 ],
 "metadata": {
  "kernelspec": {
   "display_name": "Python 3",
   "language": "python",
   "name": "python3"
  },
  "language_info": {
   "codemirror_mode": {
    "name": "ipython",
    "version": 3
   },
   "file_extension": ".py",
   "mimetype": "text/x-python",
   "name": "python",
   "nbconvert_exporter": "python",
   "pygments_lexer": "ipython3",
   "version": "3.6.12"
  }
 },
 "nbformat": 4,
 "nbformat_minor": 4
}
